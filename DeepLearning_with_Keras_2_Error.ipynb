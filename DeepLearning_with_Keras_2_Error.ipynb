{
 "cells": [
  {
   "cell_type": "code",
   "execution_count": 1,
   "metadata": {},
   "outputs": [
    {
     "name": "stderr",
     "output_type": "stream",
     "text": [
      "c:\\users\\abhir\\appdata\\local\\programs\\python\\python35\\lib\\importlib\\_bootstrap.py:222: RuntimeWarning: numpy.dtype size changed, may indicate binary incompatibility. Expected 96, got 88\n",
      "  return f(*args, **kwds)\n",
      "Using TensorFlow backend.\n",
      "c:\\users\\abhir\\appdata\\local\\programs\\python\\python35\\lib\\importlib\\_bootstrap.py:222: RuntimeWarning: numpy.dtype size changed, may indicate binary incompatibility. Expected 96, got 88\n",
      "  return f(*args, **kwds)\n",
      "c:\\users\\abhir\\appdata\\local\\programs\\python\\python35\\lib\\importlib\\_bootstrap.py:222: RuntimeWarning: numpy.dtype size changed, may indicate binary incompatibility. Expected 96, got 88\n",
      "  return f(*args, **kwds)\n"
     ]
    }
   ],
   "source": [
    "from keras.models import Sequential\n",
    "from keras.layers import Dense\n",
    "import numpy as np\n",
    "\n",
    "seed = 7\n",
    "\n",
    "np.random.seed(seed)"
   ]
  },
  {
   "cell_type": "code",
   "execution_count": 2,
   "metadata": {},
   "outputs": [],
   "source": [
    "dataset = np.loadtxt('C:/Users/abhir/Jupyter/diabetes.csv',delimiter=\",\")"
   ]
  },
  {
   "cell_type": "code",
   "execution_count": 3,
   "metadata": {},
   "outputs": [],
   "source": [
    "X = dataset[:,0:8]\n",
    "Y = dataset[:,8]\n"
   ]
  },
  {
   "cell_type": "code",
   "execution_count": 4,
   "metadata": {},
   "outputs": [],
   "source": [
    "model = Sequential()"
   ]
  },
  {
   "cell_type": "code",
   "execution_count": 5,
   "metadata": {},
   "outputs": [
    {
     "name": "stderr",
     "output_type": "stream",
     "text": [
      "c:\\users\\abhir\\appdata\\local\\programs\\python\\python35\\lib\\site-packages\\ipykernel_launcher.py:1: UserWarning: Update your `Dense` call to the Keras 2 API: `Dense(16, kernel_initializer=\"uniform\", input_dim=8, activation=\"relu\")`\n",
      "  \"\"\"Entry point for launching an IPython kernel.\n",
      "c:\\users\\abhir\\appdata\\local\\programs\\python\\python35\\lib\\site-packages\\ipykernel_launcher.py:2: UserWarning: Update your `Dense` call to the Keras 2 API: `Dense(8, kernel_initializer=\"uniform\", activation=\"relu\")`\n",
      "  \n",
      "c:\\users\\abhir\\appdata\\local\\programs\\python\\python35\\lib\\site-packages\\ipykernel_launcher.py:3: UserWarning: Update your `Dense` call to the Keras 2 API: `Dense(1, kernel_initializer=\"uniform\", activation=\"sigmoid\")`\n",
      "  This is separate from the ipykernel package so we can avoid doing imports until\n"
     ]
    }
   ],
   "source": [
    "model.add(Dense(16, input_dim=8, init='uniform', activation='relu'))\n",
    "model.add(Dense(8,init='uniform', activation='relu'))\n",
    "model.add(Dense(1,init='uniform',activation='sigmoid'))"
   ]
  },
  {
   "cell_type": "code",
   "execution_count": 6,
   "metadata": {},
   "outputs": [
    {
     "name": "stderr",
     "output_type": "stream",
     "text": [
      "c:\\users\\abhir\\appdata\\local\\programs\\python\\python35\\lib\\site-packages\\ipykernel_launcher.py:2: UserWarning: The `nb_epoch` argument in `fit` has been renamed `epochs`.\n",
      "  \n"
     ]
    },
    {
     "name": "stdout",
     "output_type": "stream",
     "text": [
      "Epoch 1/100\n",
      "768/768 [==============================] - 1s 733us/step - loss: 0.6775 - acc: 0.6510\n",
      "Epoch 2/100\n",
      "768/768 [==============================] - 0s 154us/step - loss: 0.6535 - acc: 0.6510\n",
      "Epoch 3/100\n",
      "768/768 [==============================] - 0s 158us/step - loss: 0.6381 - acc: 0.6510\n",
      "Epoch 4/100\n",
      "768/768 [==============================] - 0s 149us/step - loss: 0.6303 - acc: 0.6510\n",
      "Epoch 5/100\n",
      "768/768 [==============================] - 0s 154us/step - loss: 0.6272 - acc: 0.6510\n",
      "Epoch 6/100\n",
      "768/768 [==============================] - 0s 134us/step - loss: 0.6126 - acc: 0.6510\n",
      "Epoch 7/100\n",
      "768/768 [==============================] - 0s 168us/step - loss: 0.6138 - acc: 0.6510\n",
      "Epoch 8/100\n",
      "768/768 [==============================] - 0s 151us/step - loss: 0.6139 - acc: 0.6510\n",
      "Epoch 9/100\n",
      "768/768 [==============================] - 0s 130us/step - loss: 0.6063 - acc: 0.6510\n",
      "Epoch 10/100\n",
      "768/768 [==============================] - 0s 175us/step - loss: 0.6122 - acc: 0.6510\n",
      "Epoch 11/100\n",
      "768/768 [==============================] - 0s 159us/step - loss: 0.6030 - acc: 0.6510\n",
      "Epoch 12/100\n",
      "768/768 [==============================] - 0s 138us/step - loss: 0.6052 - acc: 0.6510\n",
      "Epoch 13/100\n",
      "768/768 [==============================] - 0s 171us/step - loss: 0.5999 - acc: 0.6510\n",
      "Epoch 14/100\n",
      "768/768 [==============================] - 0s 152us/step - loss: 0.5992 - acc: 0.6510\n",
      "Epoch 15/100\n",
      "768/768 [==============================] - 0s 136us/step - loss: 0.5979 - acc: 0.6510\n",
      "Epoch 16/100\n",
      "768/768 [==============================] - 0s 166us/step - loss: 0.6018 - acc: 0.6510\n",
      "Epoch 17/100\n",
      "768/768 [==============================] - 0s 151us/step - loss: 0.5980 - acc: 0.6510\n",
      "Epoch 18/100\n",
      "768/768 [==============================] - 0s 149us/step - loss: 0.6041 - acc: 0.6510\n",
      "Epoch 19/100\n",
      "768/768 [==============================] - 0s 144us/step - loss: 0.5947 - acc: 0.6510\n",
      "Epoch 20/100\n",
      "768/768 [==============================] - 0s 153us/step - loss: 0.6003 - acc: 0.6510\n",
      "Epoch 21/100\n",
      "768/768 [==============================] - 0s 142us/step - loss: 0.5937 - acc: 0.6510\n",
      "Epoch 22/100\n",
      "768/768 [==============================] - 0s 152us/step - loss: 0.5994 - acc: 0.6510\n",
      "Epoch 23/100\n",
      "768/768 [==============================] - 0s 146us/step - loss: 0.5919 - acc: 0.6510\n",
      "Epoch 24/100\n",
      "768/768 [==============================] - 0s 142us/step - loss: 0.6015 - acc: 0.6510\n",
      "Epoch 25/100\n",
      "768/768 [==============================] - 0s 142us/step - loss: 0.5901 - acc: 0.6510\n",
      "Epoch 26/100\n",
      "768/768 [==============================] - 0s 146us/step - loss: 0.5958 - acc: 0.6510\n",
      "Epoch 27/100\n",
      "768/768 [==============================] - 0s 145us/step - loss: 0.5973 - acc: 0.6510\n",
      "Epoch 28/100\n",
      "768/768 [==============================] - 0s 142us/step - loss: 0.5866 - acc: 0.6510\n",
      "Epoch 29/100\n",
      "768/768 [==============================] - 0s 149us/step - loss: 0.5914 - acc: 0.6510\n",
      "Epoch 30/100\n",
      "768/768 [==============================] - 0s 142us/step - loss: 0.5889 - acc: 0.6510\n",
      "Epoch 31/100\n",
      "768/768 [==============================] - 0s 147us/step - loss: 0.5910 - acc: 0.6510\n",
      "Epoch 32/100\n",
      "768/768 [==============================] - 0s 132us/step - loss: 0.5895 - acc: 0.6510\n",
      "Epoch 33/100\n",
      "768/768 [==============================] - 0s 148us/step - loss: 0.5855 - acc: 0.6510\n",
      "Epoch 34/100\n",
      "768/768 [==============================] - 0s 155us/step - loss: 0.5939 - acc: 0.6510\n",
      "Epoch 35/100\n",
      "768/768 [==============================] - 0s 149us/step - loss: 0.5889 - acc: 0.6510\n",
      "Epoch 36/100\n",
      "768/768 [==============================] - 0s 150us/step - loss: 0.5847 - acc: 0.6510\n",
      "Epoch 37/100\n",
      "768/768 [==============================] - 0s 133us/step - loss: 0.5813 - acc: 0.6510\n",
      "Epoch 38/100\n",
      "768/768 [==============================] - 0s 156us/step - loss: 0.5930 - acc: 0.6510\n",
      "Epoch 39/100\n",
      "768/768 [==============================] - 0s 134us/step - loss: 0.5837 - acc: 0.6510\n",
      "Epoch 40/100\n",
      "768/768 [==============================] - 0s 132us/step - loss: 0.5898 - acc: 0.6510\n",
      "Epoch 41/100\n",
      "768/768 [==============================] - 0s 139us/step - loss: 0.5845 - acc: 0.6536\n",
      "Epoch 42/100\n",
      "768/768 [==============================] - 0s 136us/step - loss: 0.5809 - acc: 0.6771\n",
      "Epoch 43/100\n",
      "768/768 [==============================] - 0s 140us/step - loss: 0.5788 - acc: 0.7083\n",
      "Epoch 44/100\n",
      "768/768 [==============================] - 0s 142us/step - loss: 0.5900 - acc: 0.6992\n",
      "Epoch 45/100\n",
      "768/768 [==============================] - 0s 135us/step - loss: 0.5783 - acc: 0.7214\n",
      "Epoch 46/100\n",
      "768/768 [==============================] - 0s 135us/step - loss: 0.5754 - acc: 0.7070\n",
      "Epoch 47/100\n",
      "768/768 [==============================] - 0s 138us/step - loss: 0.5777 - acc: 0.7148\n",
      "Epoch 48/100\n",
      "768/768 [==============================] - 0s 140us/step - loss: 0.5754 - acc: 0.6940\n",
      "Epoch 49/100\n",
      "768/768 [==============================] - 0s 131us/step - loss: 0.5751 - acc: 0.7070\n",
      "Epoch 50/100\n",
      "768/768 [==============================] - 0s 134us/step - loss: 0.5755 - acc: 0.7083\n",
      "Epoch 51/100\n",
      "768/768 [==============================] - 0s 130us/step - loss: 0.5732 - acc: 0.7070\n",
      "Epoch 52/100\n",
      "768/768 [==============================] - 0s 135us/step - loss: 0.5723 - acc: 0.7109\n",
      "Epoch 53/100\n",
      "768/768 [==============================] - 0s 127us/step - loss: 0.5811 - acc: 0.6979\n",
      "Epoch 54/100\n",
      "768/768 [==============================] - 0s 125us/step - loss: 0.5714 - acc: 0.7096\n",
      "Epoch 55/100\n",
      "768/768 [==============================] - 0s 119us/step - loss: 0.5766 - acc: 0.7109\n",
      "Epoch 56/100\n",
      "768/768 [==============================] - 0s 137us/step - loss: 0.5782 - acc: 0.7122\n",
      "Epoch 57/100\n",
      "768/768 [==============================] - 0s 136us/step - loss: 0.5723 - acc: 0.7057\n",
      "Epoch 58/100\n",
      "768/768 [==============================] - 0s 125us/step - loss: 0.5719 - acc: 0.7083\n",
      "Epoch 59/100\n",
      "768/768 [==============================] - 0s 131us/step - loss: 0.5700 - acc: 0.7018\n",
      "Epoch 60/100\n",
      "768/768 [==============================] - 0s 126us/step - loss: 0.5739 - acc: 0.6810\n",
      "Epoch 61/100\n",
      "768/768 [==============================] - 0s 134us/step - loss: 0.5719 - acc: 0.7018\n",
      "Epoch 62/100\n",
      "768/768 [==============================] - 0s 130us/step - loss: 0.5700 - acc: 0.7292\n",
      "Epoch 63/100\n",
      "768/768 [==============================] - 0s 124us/step - loss: 0.5692 - acc: 0.7018\n",
      "Epoch 64/100\n",
      "768/768 [==============================] - 0s 125us/step - loss: 0.5692 - acc: 0.7161 0s - loss: 0.5495 - acc: 0.734\n",
      "Epoch 65/100\n",
      "768/768 [==============================] - 0s 126us/step - loss: 0.5637 - acc: 0.7057\n",
      "Epoch 66/100\n",
      "768/768 [==============================] - 0s 129us/step - loss: 0.5645 - acc: 0.7044\n",
      "Epoch 67/100\n",
      "768/768 [==============================] - 0s 125us/step - loss: 0.5677 - acc: 0.7096\n",
      "Epoch 68/100\n",
      "768/768 [==============================] - 0s 130us/step - loss: 0.5650 - acc: 0.7057\n",
      "Epoch 69/100\n",
      "768/768 [==============================] - 0s 119us/step - loss: 0.5618 - acc: 0.7187\n",
      "Epoch 70/100\n",
      "768/768 [==============================] - 0s 129us/step - loss: 0.5705 - acc: 0.7005\n",
      "Epoch 71/100\n",
      "768/768 [==============================] - 0s 125us/step - loss: 0.5596 - acc: 0.7057\n",
      "Epoch 72/100\n",
      "768/768 [==============================] - ETA: 0s - loss: 0.5708 - acc: 0.695 - 0s 123us/step - loss: 0.5599 - acc: 0.7070\n",
      "Epoch 73/100\n",
      "768/768 [==============================] - 0s 127us/step - loss: 0.5598 - acc: 0.7266\n",
      "Epoch 74/100\n",
      "768/768 [==============================] - 0s 126us/step - loss: 0.5580 - acc: 0.7135\n",
      "Epoch 75/100\n",
      "768/768 [==============================] - 0s 115us/step - loss: 0.5564 - acc: 0.7135\n",
      "Epoch 76/100\n",
      "768/768 [==============================] - 0s 125us/step - loss: 0.5520 - acc: 0.7279\n",
      "Epoch 77/100\n",
      "768/768 [==============================] - 0s 130us/step - loss: 0.5563 - acc: 0.7188\n",
      "Epoch 78/100\n",
      "768/768 [==============================] - 0s 121us/step - loss: 0.5492 - acc: 0.7214\n",
      "Epoch 79/100\n",
      "768/768 [==============================] - 0s 125us/step - loss: 0.5534 - acc: 0.7070\n",
      "Epoch 80/100\n",
      "768/768 [==============================] - 0s 124us/step - loss: 0.5565 - acc: 0.7135\n",
      "Epoch 81/100\n",
      "768/768 [==============================] - 0s 116us/step - loss: 0.5466 - acc: 0.7318\n",
      "Epoch 82/100\n",
      "768/768 [==============================] - 0s 126us/step - loss: 0.5529 - acc: 0.7227\n",
      "Epoch 83/100\n"
     ]
    },
    {
     "name": "stdout",
     "output_type": "stream",
     "text": [
      "768/768 [==============================] - 0s 119us/step - loss: 0.5475 - acc: 0.7240\n",
      "Epoch 84/100\n",
      "768/768 [==============================] - 0s 139us/step - loss: 0.5430 - acc: 0.7266\n",
      "Epoch 85/100\n",
      "768/768 [==============================] - 0s 143us/step - loss: 0.5426 - acc: 0.7318\n",
      "Epoch 86/100\n",
      "768/768 [==============================] - 0s 143us/step - loss: 0.5541 - acc: 0.7148\n",
      "Epoch 87/100\n",
      "768/768 [==============================] - 0s 128us/step - loss: 0.5376 - acc: 0.7344\n",
      "Epoch 88/100\n",
      "768/768 [==============================] - 0s 159us/step - loss: 0.5365 - acc: 0.7435\n",
      "Epoch 89/100\n",
      "768/768 [==============================] - 0s 130us/step - loss: 0.5517 - acc: 0.7344\n",
      "Epoch 90/100\n",
      "768/768 [==============================] - 0s 149us/step - loss: 0.5326 - acc: 0.7383\n",
      "Epoch 91/100\n",
      "768/768 [==============================] - 0s 156us/step - loss: 0.5333 - acc: 0.7292\n",
      "Epoch 92/100\n",
      "768/768 [==============================] - 0s 133us/step - loss: 0.5254 - acc: 0.7461\n",
      "Epoch 93/100\n",
      "768/768 [==============================] - 0s 148us/step - loss: 0.5295 - acc: 0.7435\n",
      "Epoch 94/100\n",
      "768/768 [==============================] - 0s 139us/step - loss: 0.5245 - acc: 0.7422\n",
      "Epoch 95/100\n",
      "768/768 [==============================] - 0s 144us/step - loss: 0.5213 - acc: 0.7474\n",
      "Epoch 96/100\n",
      "768/768 [==============================] - 0s 127us/step - loss: 0.5205 - acc: 0.7591\n",
      "Epoch 97/100\n",
      "768/768 [==============================] - 0s 164us/step - loss: 0.5191 - acc: 0.7591\n",
      "Epoch 98/100\n",
      "768/768 [==============================] - 0s 146us/step - loss: 0.5162 - acc: 0.7682\n",
      "Epoch 99/100\n",
      "768/768 [==============================] - 0s 142us/step - loss: 0.5045 - acc: 0.7591\n",
      "Epoch 100/100\n",
      "768/768 [==============================] - 0s 146us/step - loss: 0.5144 - acc: 0.7617\n"
     ]
    },
    {
     "data": {
      "text/plain": [
       "<keras.callbacks.History at 0x21a91eaaf98>"
      ]
     },
     "execution_count": 6,
     "metadata": {},
     "output_type": "execute_result"
    }
   ],
   "source": [
    "model.compile(loss='binary_crossentropy', optimizer='adam', metrics=['accuracy'])\n",
    "model.fit(X,Y, nb_epoch=100, batch_size=10)"
   ]
  },
  {
   "cell_type": "code",
   "execution_count": 7,
   "metadata": {},
   "outputs": [],
   "source": [
    "from keras.utils import plot_model"
   ]
  },
  {
   "cell_type": "code",
   "execution_count": 9,
   "metadata": {},
   "outputs": [
    {
     "ename": "OSError",
     "evalue": "`pydot` failed to call GraphViz.Please install GraphViz (https://www.graphviz.org/) and ensure that its executables are in the $PATH.",
     "output_type": "error",
     "traceback": [
      "\u001b[1;31m---------------------------------------------------------------------------\u001b[0m",
      "\u001b[1;31mFileNotFoundError\u001b[0m                         Traceback (most recent call last)",
      "\u001b[1;32mc:\\users\\abhir\\appdata\\local\\programs\\python\\python35\\lib\\site-packages\\pydot.py\u001b[0m in \u001b[0;36mcreate\u001b[1;34m(self, prog, format, encoding)\u001b[0m\n\u001b[0;32m   1860\u001b[0m                 \u001b[0mshell\u001b[0m\u001b[1;33m=\u001b[0m\u001b[1;32mFalse\u001b[0m\u001b[1;33m,\u001b[0m\u001b[1;33m\u001b[0m\u001b[0m\n\u001b[1;32m-> 1861\u001b[1;33m                 stderr=subprocess.PIPE, stdout=subprocess.PIPE)\n\u001b[0m\u001b[0;32m   1862\u001b[0m         \u001b[1;32mexcept\u001b[0m \u001b[0mOSError\u001b[0m \u001b[1;32mas\u001b[0m \u001b[0me\u001b[0m\u001b[1;33m:\u001b[0m\u001b[1;33m\u001b[0m\u001b[0m\n",
      "\u001b[1;32mc:\\users\\abhir\\appdata\\local\\programs\\python\\python35\\lib\\subprocess.py\u001b[0m in \u001b[0;36m__init__\u001b[1;34m(self, args, bufsize, executable, stdin, stdout, stderr, preexec_fn, close_fds, shell, cwd, env, universal_newlines, startupinfo, creationflags, restore_signals, start_new_session, pass_fds)\u001b[0m\n\u001b[0;32m    946\u001b[0m                                 \u001b[0merrread\u001b[0m\u001b[1;33m,\u001b[0m \u001b[0merrwrite\u001b[0m\u001b[1;33m,\u001b[0m\u001b[1;33m\u001b[0m\u001b[0m\n\u001b[1;32m--> 947\u001b[1;33m                                 restore_signals, start_new_session)\n\u001b[0m\u001b[0;32m    948\u001b[0m         \u001b[1;32mexcept\u001b[0m\u001b[1;33m:\u001b[0m\u001b[1;33m\u001b[0m\u001b[0m\n",
      "\u001b[1;32mc:\\users\\abhir\\appdata\\local\\programs\\python\\python35\\lib\\subprocess.py\u001b[0m in \u001b[0;36m_execute_child\u001b[1;34m(self, args, executable, preexec_fn, close_fds, pass_fds, cwd, env, startupinfo, creationflags, shell, p2cread, p2cwrite, c2pread, c2pwrite, errread, errwrite, unused_restore_signals, unused_start_new_session)\u001b[0m\n\u001b[0;32m   1223\u001b[0m                                          \u001b[0mcwd\u001b[0m\u001b[1;33m,\u001b[0m\u001b[1;33m\u001b[0m\u001b[0m\n\u001b[1;32m-> 1224\u001b[1;33m                                          startupinfo)\n\u001b[0m\u001b[0;32m   1225\u001b[0m             \u001b[1;32mfinally\u001b[0m\u001b[1;33m:\u001b[0m\u001b[1;33m\u001b[0m\u001b[0m\n",
      "\u001b[1;31mFileNotFoundError\u001b[0m: [WinError 2] The system cannot find the file specified",
      "\nDuring handling of the above exception, another exception occurred:\n",
      "\u001b[1;31mFileNotFoundError\u001b[0m                         Traceback (most recent call last)",
      "\u001b[1;32mc:\\users\\abhir\\appdata\\local\\programs\\python\\python35\\lib\\site-packages\\keras\\utils\\vis_utils.py\u001b[0m in \u001b[0;36m_check_pydot\u001b[1;34m()\u001b[0m\n\u001b[0;32m     25\u001b[0m         \u001b[1;31m# to check the pydot/graphviz installation.\u001b[0m\u001b[1;33m\u001b[0m\u001b[1;33m\u001b[0m\u001b[0m\n\u001b[1;32m---> 26\u001b[1;33m         \u001b[0mpydot\u001b[0m\u001b[1;33m.\u001b[0m\u001b[0mDot\u001b[0m\u001b[1;33m.\u001b[0m\u001b[0mcreate\u001b[0m\u001b[1;33m(\u001b[0m\u001b[0mpydot\u001b[0m\u001b[1;33m.\u001b[0m\u001b[0mDot\u001b[0m\u001b[1;33m(\u001b[0m\u001b[1;33m)\u001b[0m\u001b[1;33m)\u001b[0m\u001b[1;33m\u001b[0m\u001b[0m\n\u001b[0m\u001b[0;32m     27\u001b[0m     \u001b[1;32mexcept\u001b[0m \u001b[0mOSError\u001b[0m\u001b[1;33m:\u001b[0m\u001b[1;33m\u001b[0m\u001b[0m\n",
      "\u001b[1;32mc:\\users\\abhir\\appdata\\local\\programs\\python\\python35\\lib\\site-packages\\pydot.py\u001b[0m in \u001b[0;36mcreate\u001b[1;34m(self, prog, format, encoding)\u001b[0m\n\u001b[0;32m   1866\u001b[0m                     prog=prog)\n\u001b[1;32m-> 1867\u001b[1;33m                 \u001b[1;32mraise\u001b[0m \u001b[0mOSError\u001b[0m\u001b[1;33m(\u001b[0m\u001b[1;33m*\u001b[0m\u001b[0margs\u001b[0m\u001b[1;33m)\u001b[0m\u001b[1;33m\u001b[0m\u001b[0m\n\u001b[0m\u001b[0;32m   1868\u001b[0m             \u001b[1;32melse\u001b[0m\u001b[1;33m:\u001b[0m\u001b[1;33m\u001b[0m\u001b[0m\n",
      "\u001b[1;31mFileNotFoundError\u001b[0m: [WinError 2] \"dot.exe\" not found in path.",
      "\nDuring handling of the above exception, another exception occurred:\n",
      "\u001b[1;31mOSError\u001b[0m                                   Traceback (most recent call last)",
      "\u001b[1;32m<ipython-input-9-9582378e3c59>\u001b[0m in \u001b[0;36m<module>\u001b[1;34m()\u001b[0m\n\u001b[1;32m----> 1\u001b[1;33m \u001b[0mplot_model\u001b[0m\u001b[1;33m(\u001b[0m\u001b[0mmodel\u001b[0m\u001b[1;33m,\u001b[0m \u001b[0mto_file\u001b[0m\u001b[1;33m=\u001b[0m\u001b[1;34m'first_model.png'\u001b[0m\u001b[1;33m,\u001b[0m\u001b[0mshow_shapes\u001b[0m\u001b[1;33m=\u001b[0m\u001b[1;32mTrue\u001b[0m\u001b[1;33m,\u001b[0m \u001b[0mshow_layer_names\u001b[0m\u001b[1;33m=\u001b[0m\u001b[1;32mTrue\u001b[0m\u001b[1;33m)\u001b[0m\u001b[1;33m\u001b[0m\u001b[0m\n\u001b[0m",
      "\u001b[1;32mc:\\users\\abhir\\appdata\\local\\programs\\python\\python35\\lib\\site-packages\\keras\\utils\\vis_utils.py\u001b[0m in \u001b[0;36mplot_model\u001b[1;34m(model, to_file, show_shapes, show_layer_names, rankdir)\u001b[0m\n\u001b[0;32m    130\u001b[0m             \u001b[1;34m'LR'\u001b[0m \u001b[0mcreates\u001b[0m \u001b[0ma\u001b[0m \u001b[0mhorizontal\u001b[0m \u001b[0mplot\u001b[0m\u001b[1;33m.\u001b[0m\u001b[1;33m\u001b[0m\u001b[0m\n\u001b[0;32m    131\u001b[0m     \"\"\"\n\u001b[1;32m--> 132\u001b[1;33m     \u001b[0mdot\u001b[0m \u001b[1;33m=\u001b[0m \u001b[0mmodel_to_dot\u001b[0m\u001b[1;33m(\u001b[0m\u001b[0mmodel\u001b[0m\u001b[1;33m,\u001b[0m \u001b[0mshow_shapes\u001b[0m\u001b[1;33m,\u001b[0m \u001b[0mshow_layer_names\u001b[0m\u001b[1;33m,\u001b[0m \u001b[0mrankdir\u001b[0m\u001b[1;33m)\u001b[0m\u001b[1;33m\u001b[0m\u001b[0m\n\u001b[0m\u001b[0;32m    133\u001b[0m     \u001b[0m_\u001b[0m\u001b[1;33m,\u001b[0m \u001b[0mextension\u001b[0m \u001b[1;33m=\u001b[0m \u001b[0mos\u001b[0m\u001b[1;33m.\u001b[0m\u001b[0mpath\u001b[0m\u001b[1;33m.\u001b[0m\u001b[0msplitext\u001b[0m\u001b[1;33m(\u001b[0m\u001b[0mto_file\u001b[0m\u001b[1;33m)\u001b[0m\u001b[1;33m\u001b[0m\u001b[0m\n\u001b[0;32m    134\u001b[0m     \u001b[1;32mif\u001b[0m \u001b[1;32mnot\u001b[0m \u001b[0mextension\u001b[0m\u001b[1;33m:\u001b[0m\u001b[1;33m\u001b[0m\u001b[0m\n",
      "\u001b[1;32mc:\\users\\abhir\\appdata\\local\\programs\\python\\python35\\lib\\site-packages\\keras\\utils\\vis_utils.py\u001b[0m in \u001b[0;36mmodel_to_dot\u001b[1;34m(model, show_shapes, show_layer_names, rankdir)\u001b[0m\n\u001b[0;32m     53\u001b[0m     \u001b[1;32mfrom\u001b[0m \u001b[1;33m.\u001b[0m\u001b[1;33m.\u001b[0m\u001b[0mmodels\u001b[0m \u001b[1;32mimport\u001b[0m \u001b[0mSequential\u001b[0m\u001b[1;33m\u001b[0m\u001b[0m\n\u001b[0;32m     54\u001b[0m \u001b[1;33m\u001b[0m\u001b[0m\n\u001b[1;32m---> 55\u001b[1;33m     \u001b[0m_check_pydot\u001b[0m\u001b[1;33m(\u001b[0m\u001b[1;33m)\u001b[0m\u001b[1;33m\u001b[0m\u001b[0m\n\u001b[0m\u001b[0;32m     56\u001b[0m     \u001b[0mdot\u001b[0m \u001b[1;33m=\u001b[0m \u001b[0mpydot\u001b[0m\u001b[1;33m.\u001b[0m\u001b[0mDot\u001b[0m\u001b[1;33m(\u001b[0m\u001b[1;33m)\u001b[0m\u001b[1;33m\u001b[0m\u001b[0m\n\u001b[0;32m     57\u001b[0m     \u001b[0mdot\u001b[0m\u001b[1;33m.\u001b[0m\u001b[0mset\u001b[0m\u001b[1;33m(\u001b[0m\u001b[1;34m'rankdir'\u001b[0m\u001b[1;33m,\u001b[0m \u001b[0mrankdir\u001b[0m\u001b[1;33m)\u001b[0m\u001b[1;33m\u001b[0m\u001b[0m\n",
      "\u001b[1;32mc:\\users\\abhir\\appdata\\local\\programs\\python\\python35\\lib\\site-packages\\keras\\utils\\vis_utils.py\u001b[0m in \u001b[0;36m_check_pydot\u001b[1;34m()\u001b[0m\n\u001b[0;32m     27\u001b[0m     \u001b[1;32mexcept\u001b[0m \u001b[0mOSError\u001b[0m\u001b[1;33m:\u001b[0m\u001b[1;33m\u001b[0m\u001b[0m\n\u001b[0;32m     28\u001b[0m         raise OSError(\n\u001b[1;32m---> 29\u001b[1;33m             \u001b[1;34m'`pydot` failed to call GraphViz.'\u001b[0m\u001b[1;33m\u001b[0m\u001b[0m\n\u001b[0m\u001b[0;32m     30\u001b[0m             \u001b[1;34m'Please install GraphViz (https://www.graphviz.org/) '\u001b[0m\u001b[1;33m\u001b[0m\u001b[0m\n\u001b[0;32m     31\u001b[0m             'and ensure that its executables are in the $PATH.')\n",
      "\u001b[1;31mOSError\u001b[0m: `pydot` failed to call GraphViz.Please install GraphViz (https://www.graphviz.org/) and ensure that its executables are in the $PATH."
     ]
    }
   ],
   "source": [
    "plot_model(model, to_file='first_model.png',show_shapes=True, show_layer_names=True)"
   ]
  },
  {
   "cell_type": "markdown",
   "metadata": {},
   "source": [
    "Even after the installation of graphviz and adding the bin path to the $PATH, the graph is not "
   ]
  }
 ],
 "metadata": {
  "kernelspec": {
   "display_name": "Python 3",
   "language": "python",
   "name": "python3"
  },
  "language_info": {
   "codemirror_mode": {
    "name": "ipython",
    "version": 3
   },
   "file_extension": ".py",
   "mimetype": "text/x-python",
   "name": "python",
   "nbconvert_exporter": "python",
   "pygments_lexer": "ipython3",
   "version": "3.5.2"
  }
 },
 "nbformat": 4,
 "nbformat_minor": 2
}
